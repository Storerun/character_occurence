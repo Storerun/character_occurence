{
 "cells": [
  {
   "cell_type": "code",
   "execution_count": 9,
   "id": "7b880a28",
   "metadata": {},
   "outputs": [
    {
     "name": "stdout",
     "output_type": "stream",
     "text": [
      "write something: l;khklk\n",
      "enter letter : l\n",
      "The letter 'l' appears 2 times \n"
     ]
    }
   ],
   "source": [
    "x= input(\"write something: \")\n",
    "y= input(\"enter letter : \")\n",
    "a=x.count(y)\n",
    "\n",
    "print(\"The letter '{}' appears {} times \".format(y,a))"
   ]
  },
  {
   "cell_type": "code",
   "execution_count": null,
   "id": "4e89f6e6",
   "metadata": {},
   "outputs": [],
   "source": []
  }
 ],
 "metadata": {
  "kernelspec": {
   "display_name": "Python 3",
   "language": "python",
   "name": "python3"
  },
  "language_info": {
   "codemirror_mode": {
    "name": "ipython",
    "version": 3
   },
   "file_extension": ".py",
   "mimetype": "text/x-python",
   "name": "python",
   "nbconvert_exporter": "python",
   "pygments_lexer": "ipython3",
   "version": "3.8.8"
  }
 },
 "nbformat": 4,
 "nbformat_minor": 5
}
